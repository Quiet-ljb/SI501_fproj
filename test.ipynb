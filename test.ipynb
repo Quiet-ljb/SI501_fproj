{
 "cells": [
  {
   "cell_type": "code",
   "execution_count": 1,
   "metadata": {},
   "outputs": [],
   "source": [
    "import json"
   ]
  },
  {
   "cell_type": "code",
   "execution_count": 2,
   "metadata": {},
   "outputs": [],
   "source": [
    "all_city_data = []\n",
    "f = open(\"city_data.json\",\"r\")\n",
    "lines = f.readlines()\n",
    "for line in lines:\n",
    "    data = json.loads(line)\n",
    "    all_city_data.append(data)\n",
    "f.close()"
   ]
  },
  {
   "cell_type": "code",
   "execution_count": 20,
   "metadata": {},
   "outputs": [
    {
     "data": {
      "text/plain": [
       "'New York'"
      ]
     },
     "execution_count": 20,
     "metadata": {},
     "output_type": "execute_result"
    }
   ],
   "source": [
    "all_city_data[0]['businesses'][0]['location']['city']"
   ]
  },
  {
   "cell_type": "code",
   "execution_count": 13,
   "metadata": {},
   "outputs": [],
   "source": [
    "class city_letter_node:\n",
    "    def __init__(self, letter):\n",
    "        self.letter = letter\n",
    "        self.children = {}\n",
    "        self.info = None\n",
    "\n",
    "    def insert_city(self, city_name, city_info):\n",
    "        if city_name=='':\n",
    "            self.info = city_info\n",
    "            return\n",
    "        letter = city_name[0]\n",
    "        if letter not in self.children:\n",
    "            self.children[letter] = city_letter_node(letter)\n",
    "        self.children[letter].insert_city(city_name[1:], city_info)\n",
    "\n",
    "    def get_city_info(self, city_name):\n",
    "        if city_name=='':\n",
    "            return self.info\n",
    "        letter = city_name[0]\n",
    "        if letter not in self.children:\n",
    "            return None\n",
    "        return self.children[letter].get_city_info(city_name[1:])\n",
    "\n",
    "    def get_city_info_by_prefix(self, prefix):\n",
    "        if prefix=='':\n",
    "            return self.get_all_city_info()\n",
    "        letter = prefix[0]\n",
    "        if letter not in self.children:\n",
    "            return []\n",
    "        return self.children[letter].get_city_info_by_prefix(prefix[1:])\n",
    "\n",
    "    def get_all_city_info(self):\n",
    "        if self.info is not None:\n",
    "            return [self.info]\n",
    "        res = []\n",
    "        for child in self.children.values():\n",
    "            res.extend(child.get_all_city_info())\n",
    "        return res\n",
    "\n",
    "    def show(self,level=0):\n",
    "        print(\"-\"*level + self.letter)\n",
    "        for child in self.children.values():\n",
    "            child.show(level+1)"
   ]
  },
  {
   "cell_type": "code",
   "execution_count": 21,
   "metadata": {},
   "outputs": [],
   "source": [
    "top_node = city_letter_node('')"
   ]
  },
  {
   "cell_type": "code",
   "execution_count": 23,
   "metadata": {},
   "outputs": [],
   "source": [
    "for city in all_city_data:\n",
    "    try:\n",
    "        city_name = city['businesses'][0]['location']['city']\n",
    "        city_name = city_name.lower()\n",
    "        city_name = city_name.replace(\" \",\"\")\n",
    "        top_node.insert_city(city_name, city)\n",
    "    except:\n",
    "        pass"
   ]
  },
  {
   "cell_type": "code",
   "execution_count": null,
   "metadata": {},
   "outputs": [],
   "source": []
  }
 ],
 "metadata": {
  "kernelspec": {
   "display_name": "Python 3.10.1 64-bit",
   "language": "python",
   "name": "python3"
  },
  "language_info": {
   "codemirror_mode": {
    "name": "ipython",
    "version": 3
   },
   "file_extension": ".py",
   "mimetype": "text/x-python",
   "name": "python",
   "nbconvert_exporter": "python",
   "pygments_lexer": "ipython3",
   "version": "3.10.1"
  },
  "orig_nbformat": 4,
  "vscode": {
   "interpreter": {
    "hash": "c9a7f1a15d3506a784612b98851961835bbd5297fb9af0e7b915f9fd1bfd03a8"
   }
  }
 },
 "nbformat": 4,
 "nbformat_minor": 2
}
