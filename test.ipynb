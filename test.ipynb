{
 "cells": [
  {
   "cell_type": "code",
   "execution_count": 1,
   "metadata": {},
   "outputs": [],
   "source": [
    "import requests\n",
    "import pandas as pd\n",
    "from bs4 import BeautifulSoup\n",
    "import json"
   ]
  },
  {
   "cell_type": "code",
   "execution_count": 3,
   "metadata": {},
   "outputs": [
    {
     "name": "stdout",
     "output_type": "stream",
     "text": [
      "{'businesses': [{'id': 'qMWue331PWctcrOqIGmXFg', 'alias': 'ragadan-chicago', 'name': 'Ragadan', 'image_url': 'https://s3-media1.fl.yelpcdn.com/bphoto/t1qmcXkhZX9tUtwac1IWHQ/o.jpg', 'is_closed': False, 'url': 'https://www.yelp.com/biz/ragadan-chicago?adjust_creative=jZ1AzlbsMQ0MFeKzJ662tA&utm_campaign=yelp_api_v3&utm_medium=api_v3_business_search&utm_source=jZ1AzlbsMQ0MFeKzJ662tA', 'review_count': 7, 'categories': [{'alias': 'vegetarian', 'title': 'Vegetarian'}, {'alias': 'burgers', 'title': 'Burgers'}, {'alias': 'falafel', 'title': 'Falafel'}], 'rating': 5.0, 'coordinates': {'latitude': 41.962151, 'longitude': -87.655128}, 'transactions': ['pickup', 'delivery'], 'location': {'address1': '4409 N Broadway', 'address2': None, 'address3': '', 'city': 'Chicago', 'zip_code': '60640', 'country': 'US', 'state': 'IL', 'display_address': ['4409 N Broadway', 'Chicago, IL 60640']}, 'phone': '+17736541788', 'display_phone': '(773) 654-1788', 'distance': 6609.106055345824}], 'total': 54, 'region': {'center': {'longitude': -87.67776489257812, 'latitude': 41.90515925618311}}}\n"
     ]
    }
   ],
   "source": [
    "api_key = \"reSfKMMzJnXCzj5P_1TGJxx7kaxc4wyaJeO8dWFjSqr1l5ZoKCy1t16yp_frAjilTea-vavOKIodvRstANMOuTAvgLbNefYmZSW5mxZRxqWXEE-FueQByzJiM9JBY3Yx\"\n",
    "http_header = {'Authorization': 'Bearer '+api_key}\n",
    "url = 'https://api.yelp.com/v3/businesses/search'\n",
    "parameter = {'location': 'Chicago','attributes':'hot_and_new','limit':1,'sort_by':'rating'}\n",
    "\n",
    "print(json.loads(requests.get(url,headers = http_header,params=parameter).text))"
   ]
  },
  {
   "cell_type": "code",
   "execution_count": 4,
   "metadata": {},
   "outputs": [
    {
     "name": "stdout",
     "output_type": "stream",
     "text": [
      "['New York[d]', 'Los Angeles', 'Chicago', 'Houston', 'Phoenix', 'Philadelphia[e]', 'San Antonio', 'San Diego', 'Dallas', 'San Jose', 'Austin', 'Jacksonville[f]', 'Fort Worth', 'Columbus', 'Indianapolis[g]', 'Charlotte', 'San Francisco[h]', 'Seattle', 'Denver[i]', 'Oklahoma City', 'Nashville[j]', 'El Paso', 'Washington[k]', 'Boston', 'Las Vegas', 'Portland', 'Detroit', 'Louisville[l]', 'Memphis', 'Baltimore[m]', 'Milwaukee', 'Albuquerque', 'Fresno', 'Tucson', 'Sacramento', 'Mesa', 'Kansas City', 'Atlanta', 'Omaha', 'Colorado Springs', 'Raleigh', 'Virginia Beach[m]', 'Long Beach', 'Miami', 'Oakland', 'Minneapolis', 'Tulsa', 'Bakersfield', 'Wichita', 'Arlington', 'Aurora', 'Tampa', 'New Orleans[n]', 'Cleveland', 'Anaheim', 'Honolulu[o]', 'Henderson', 'Stockton', 'Lexington[p]', 'Corpus Christi', 'Riverside', 'Santa Ana', 'Orlando', 'Irvine', 'Cincinnati', 'Newark', 'Saint Paul', 'Pittsburgh', 'Greensboro', 'St. Louis[m]', 'Lincoln', 'Plano', 'Anchorage[q]', 'Durham', 'Jersey City', 'Chandler', 'Chula Vista', 'Buffalo', 'North Las Vegas', 'Gilbert[r]', 'Madison', 'Reno', 'Toledo', 'Fort Wayne', 'Lubbock', 'St. Petersburg', 'Laredo', 'Irving', 'Chesapeake[m]', 'Winston–Salem', 'Glendale', 'Scottsdale', 'Garland', 'Boise[s]', 'Norfolk[m]', 'Spokane', 'Fremont', 'Richmond[m]', 'Santa Clarita', 'San Bernardino', 'Baton Rouge[t]', 'Hialeah', 'Tacoma', 'Modesto', 'Port St. Lucie', 'Huntsville', 'Des Moines', 'Moreno Valley', 'Fontana', 'Frisco', 'Rochester', 'Yonkers', 'Fayetteville', 'Worcester', 'Columbus[u]', 'Cape Coral', 'McKinney', 'Little Rock', 'Oxnard', 'Amarillo', 'Augusta[v]', 'Salt Lake City', 'Montgomery', 'Birmingham', 'Grand Rapids', 'Grand Prairie', 'Overland Park', 'Tallahassee', 'Huntington Beach', 'Sioux Falls', 'Peoria', 'Knoxville', 'Glendale', 'Vancouver', 'Providence', 'Akron', 'Brownsville', 'Mobile', 'Newport News[m]', 'Tempe', 'Shreveport', 'Chattanooga', 'Fort Lauderdale', 'Aurora', 'Elk Grove', 'Ontario', 'Salem', 'Cary', 'Santa Rosa', 'Rancho Cucamonga', 'Eugene', 'Oceanside', 'Clarksville', 'Garden Grove', 'Lancaster', 'Springfield', 'Pembroke Pines', 'Fort Collins', 'Palmdale', 'Salinas', 'Hayward', 'Corona', 'Paterson', 'Murfreesboro', 'Macon[w]', 'Lakewood', 'Killeen', 'Springfield', 'Alexandria[m]', 'Kansas City[x]', 'Sunnyvale', 'Hollywood', 'Roseville', 'Charleston', 'Escondido', 'Joliet', 'Jackson', 'Bellevue', 'Surprise', 'Naperville', 'Pasadena', 'Pomona', 'Bridgeport', 'Denton', 'Rockford', 'Mesquite', 'Savannah', 'Syracuse', 'McAllen', 'Torrance', 'Olathe', 'Visalia', 'Thornton', 'Fullerton', 'Gainesville', 'Waco', 'West Valley City', 'Warren', 'Lakewood', 'Hampton[m]', 'Dayton', 'Columbia', 'Orange', 'Cedar Rapids', 'Stamford', 'Victorville', 'Pasadena', 'Elizabeth', 'New Haven', 'Miramar', 'Kent', 'Sterling Heights', 'Carrollton', 'Coral Springs', 'Midland', 'Norman', 'Athens[y]', 'Santa Clara', 'Columbia', 'Fargo', 'Pearland', 'Simi Valley', 'Meridian', 'Kansas', 'Allentown', 'Thousand Oaks', 'Abilene', 'Vallejo', 'Concord', 'Round Rock', 'Arvada', 'Clovis', 'Palm Bay', 'Independence', 'Lafayette[z]', 'Ann Arbor', 'Rochester', 'Hartford', 'College Station', 'Fairfield', 'Wilmington', 'North Charleston', 'Billings', 'West Palm Beach', 'Berkeley', 'Cambridge', 'Clearwater', 'West Jordan', 'Evansville', 'Richardson', 'Broken Arrow', 'Richmond', 'League City', 'Manchester', 'Lakeland', 'Carlsbad', 'Antioch', 'Westminster', 'High Point', 'Provo', 'Lowell', 'Elgin', 'Waterbury', 'Springfield', 'Gresham', 'Murrieta', 'Lewisville', 'Las Cruces', 'Lansing', 'Beaumont', 'Odessa', 'Pueblo', 'Peoria', 'Downey', 'Pompano Beach', 'Miami Gardens', 'Temecula', 'Everett', 'Costa Mesa', 'Ventura[aa]', 'Sparks', 'Santa Maria', 'Sugar Land', 'Greeley', 'South Fulton', 'Dearborn', 'Concord', 'Edison', 'Tyler', 'Sandy Springs', 'West Covina', 'Green Bay', 'Centennial', 'Jurupa Valley', 'El Monte', 'Allen', 'Hillsboro', 'Menifee', 'Nampa', 'Spokane Valley', 'Rio Rancho', 'Brockton', 'El Cajon', 'Burbank', 'Inglewood', 'Renton', 'Davie', 'Rialto', 'Boulder', 'South Bend', 'Woodbridge', 'Vacaville', 'Wichita Falls', \"Lee's Summit\", 'Edinburg', 'Chico', 'San Mateo', 'Bend', 'Goodyear', 'Buckeye', 'Daly City', 'Fishers', 'Quincy', 'Davenport', 'Hesperia', 'New Bedford', 'Lynn', 'Carmel', 'Longmont', 'Tuscaloosa', 'Norwalk']\n"
     ]
    }
   ],
   "source": [
    "scrape_url = \"https://en.wikipedia.org/wiki/List_of_United_States_cities_by_population\"\n",
    "soup = BeautifulSoup(requests.get(scrape_url).text)\n",
    "\n",
    "\n",
    "city_table = soup.find_all('table',class_=\"wikitable sortable\")[0]\n",
    "header = city_table.find(\"tr\")\n",
    "data_header = []\n",
    "for items in header:\n",
    "    try:\n",
    "        data_header.append(items.get_text())\n",
    "    except:\n",
    "        continue\n",
    "\n",
    "html_data = city_table.find_all(\"tr\")[1:]\n",
    "cities = []\n",
    "for element in html_data:\n",
    "    sub_data = []\n",
    "    for sub_element in element:\n",
    "        try:\n",
    "            sub_data.append(sub_element.get_text())\n",
    "        except:\n",
    "            continue\n",
    "    cities.append(sub_data[3].replace('\\n',''))\n",
    "print(cities)"
   ]
  },
  {
   "cell_type": "code",
   "execution_count": 5,
   "metadata": {},
   "outputs": [],
   "source": [
    "all_cities_data = []\n",
    "for city in cities:\n",
    "    parameter = {'location': city,'attributes':'hot_and_new','limit':1,'sort_by':'rating'}\n",
    "    city_data = json.loads(requests.get(url,headers = http_header,params=parameter).text)\n",
    "    all_cities_data.append(city_data)\n",
    "print(all_cities_data)"
   ]
  },
  {
   "cell_type": "code",
   "execution_count": null,
   "metadata": {},
   "outputs": [],
   "source": []
  }
 ],
 "metadata": {
  "kernelspec": {
   "display_name": "Python 3.10.1 64-bit",
   "language": "python",
   "name": "python3"
  },
  "language_info": {
   "codemirror_mode": {
    "name": "ipython",
    "version": 3
   },
   "file_extension": ".py",
   "mimetype": "text/x-python",
   "name": "python",
   "nbconvert_exporter": "python",
   "pygments_lexer": "ipython3",
   "version": "3.10.1"
  },
  "orig_nbformat": 4,
  "vscode": {
   "interpreter": {
    "hash": "c9a7f1a15d3506a784612b98851961835bbd5297fb9af0e7b915f9fd1bfd03a8"
   }
  }
 },
 "nbformat": 4,
 "nbformat_minor": 2
}
