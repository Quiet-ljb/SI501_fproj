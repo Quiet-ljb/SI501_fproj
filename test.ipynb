{
 "cells": [
  {
   "cell_type": "code",
   "execution_count": 1,
   "metadata": {},
   "outputs": [],
   "source": [
    "import json"
   ]
  },
  {
   "cell_type": "code",
   "execution_count": 2,
   "metadata": {},
   "outputs": [
    {
     "name": "stdout",
     "output_type": "stream",
     "text": [
      "{'businesses': [{'id': '9cV5CXzX0FS1egnQJM7HdQ', 'alias': 'unas-cupcakes-new-york', 'name': \"Una's Cupcakes\", 'image_url': 'https://s3-media2.fl.yelpcdn.com/bphoto/hqCJ-RqEufb7swRsLJXfCw/o.jpg', 'is_closed': False, 'url': 'https://www.yelp.com/biz/unas-cupcakes-new-york?adjust_creative=jZ1AzlbsMQ0MFeKzJ662tA&utm_campaign=yelp_api_v3&utm_medium=api_v3_business_search&utm_source=jZ1AzlbsMQ0MFeKzJ662tA', 'review_count': 7, 'categories': [{'alias': 'desserts', 'title': 'Desserts'}, {'alias': 'cupcakes', 'title': 'Cupcakes'}], 'rating': 5.0, 'coordinates': {'latitude': 40.79549989058043, 'longitude': -73.92966760205613}, 'transactions': [], 'location': {'address1': None, 'address2': None, 'address3': '', 'city': 'New York', 'zip_code': '10035', 'country': 'US', 'state': 'NY', 'display_address': ['New York, NY 10035']}, 'phone': '+19299556078', 'display_phone': '(929) 955-6078', 'distance': 11765.253969338322}], 'total': 250, 'region': {'center': {'longitude': -73.97918701171875, 'latitude': 40.696566751579965}}}\n"
     ]
    }
   ],
   "source": [
    "all_city_data = []\n",
    "f = open(\"city_data.json\",\"r\")\n",
    "lines = f.readlines()\n",
    "for line in lines:\n",
    "    data = json.loads(line)\n",
    "    all_city_data.append(data)\n",
    "f.close()"
   ]
  },
  {
   "cell_type": "code",
   "execution_count": 19,
   "metadata": {},
   "outputs": [],
   "source": [
    "class city_letter_node:\n",
    "    def __init__(self, letter):\n",
    "        self.letter = letter\n",
    "        self.children = []\n",
    "        self.info = None\n",
    "\n",
    "    def insert_city(self,city_name,city_info):\n",
    "        if city_name == \"\":\n",
    "            self.info = city_info\n",
    "            return\n",
    "        for child in self.children:\n",
    "            if child.letter == city_name[0]:\n",
    "                child.insert_city(city_name[1:],city_info)\n",
    "                return\n",
    "        new_child = city_letter_node(city_name[0])\n",
    "        print(\"inserting\",city_name[0])\n",
    "        self.children.append(new_child)\n",
    "        new_child.insert_city(city_name[1:],city_info)\n",
    "\n",
    "    def get_city_info(self,city_name):\n",
    "        if city_name == \"\":\n",
    "            return self.info\n",
    "        for child in self.children:\n",
    "            if child.letter == city_name[0]:\n",
    "                return child.get_city_info(city_name[1:])\n",
    "        return None\n",
    "\n",
    "    def show(self,level=0):\n",
    "        print(\" \"*level + self.letter)\n",
    "        for child in self.children:\n",
    "            child.show(level+1)"
   ]
  },
  {
   "cell_type": "code",
   "execution_count": 20,
   "metadata": {},
   "outputs": [
    {
     "name": "stdout",
     "output_type": "stream",
     "text": [
      "inserting n\n",
      "inserting e\n",
      "inserting w\n",
      "inserting y\n",
      "inserting o\n",
      "inserting r\n",
      "inserting k\n"
     ]
    }
   ],
   "source": [
    "top_node = city_letter_node(\"\")\n",
    "top_node.insert_city(\"newyork\",all_city_data[0])"
   ]
  },
  {
   "cell_type": "code",
   "execution_count": 21,
   "metadata": {},
   "outputs": [
    {
     "name": "stdout",
     "output_type": "stream",
     "text": [
      "\n",
      " n\n",
      "  e\n",
      "   w\n",
      "    y\n",
      "     o\n",
      "      r\n",
      "       k\n"
     ]
    }
   ],
   "source": [
    "top_node.show()"
   ]
  },
  {
   "cell_type": "code",
   "execution_count": 22,
   "metadata": {},
   "outputs": [
    {
     "data": {
      "text/plain": [
       "{'businesses': [{'id': '9cV5CXzX0FS1egnQJM7HdQ',\n",
       "   'alias': 'unas-cupcakes-new-york',\n",
       "   'name': \"Una's Cupcakes\",\n",
       "   'image_url': 'https://s3-media2.fl.yelpcdn.com/bphoto/hqCJ-RqEufb7swRsLJXfCw/o.jpg',\n",
       "   'is_closed': False,\n",
       "   'url': 'https://www.yelp.com/biz/unas-cupcakes-new-york?adjust_creative=jZ1AzlbsMQ0MFeKzJ662tA&utm_campaign=yelp_api_v3&utm_medium=api_v3_business_search&utm_source=jZ1AzlbsMQ0MFeKzJ662tA',\n",
       "   'review_count': 7,\n",
       "   'categories': [{'alias': 'desserts', 'title': 'Desserts'},\n",
       "    {'alias': 'cupcakes', 'title': 'Cupcakes'}],\n",
       "   'rating': 5.0,\n",
       "   'coordinates': {'latitude': 40.79549989058043,\n",
       "    'longitude': -73.92966760205613},\n",
       "   'transactions': [],\n",
       "   'location': {'address1': None,\n",
       "    'address2': None,\n",
       "    'address3': '',\n",
       "    'city': 'New York',\n",
       "    'zip_code': '10035',\n",
       "    'country': 'US',\n",
       "    'state': 'NY',\n",
       "    'display_address': ['New York, NY 10035']},\n",
       "   'phone': '+19299556078',\n",
       "   'display_phone': '(929) 955-6078',\n",
       "   'distance': 11765.253969338322}],\n",
       " 'total': 250,\n",
       " 'region': {'center': {'longitude': -73.97918701171875,\n",
       "   'latitude': 40.696566751579965}}}"
      ]
     },
     "execution_count": 22,
     "metadata": {},
     "output_type": "execute_result"
    }
   ],
   "source": [
    "top_node.get_city_info(\"newyork\")"
   ]
  },
  {
   "cell_type": "code",
   "execution_count": null,
   "metadata": {},
   "outputs": [],
   "source": []
  }
 ],
 "metadata": {
  "kernelspec": {
   "display_name": "Python 3.10.1 64-bit",
   "language": "python",
   "name": "python3"
  },
  "language_info": {
   "codemirror_mode": {
    "name": "ipython",
    "version": 3
   },
   "file_extension": ".py",
   "mimetype": "text/x-python",
   "name": "python",
   "nbconvert_exporter": "python",
   "pygments_lexer": "ipython3",
   "version": "3.10.1"
  },
  "orig_nbformat": 4,
  "vscode": {
   "interpreter": {
    "hash": "c9a7f1a15d3506a784612b98851961835bbd5297fb9af0e7b915f9fd1bfd03a8"
   }
  }
 },
 "nbformat": 4,
 "nbformat_minor": 2
}
