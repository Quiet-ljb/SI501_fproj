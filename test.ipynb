{
 "cells": [
  {
   "cell_type": "code",
   "execution_count": null,
   "metadata": {},
   "outputs": [],
   "source": [
    "import requests\n",
    "import pandas as pd\n",
    "from bs4 import BeautifulSoup\n",
    "import json"
   ]
  },
  {
   "cell_type": "code",
   "execution_count": null,
   "metadata": {},
   "outputs": [],
   "source": [
    "api_key = \"reSfKMMzJnXCzj5P_1TGJxx7kaxc4wyaJeO8dWFjSqr1l5ZoKCy1t16yp_frAjilTea-vavOKIodvRstANMOuTAvgLbNefYmZSW5mxZRxqWXEE-FueQByzJiM9JBY3Yx\"\n",
    "http_header = {'Authorization': 'Bearer '+api_key}\n",
    "url = 'https://api.yelp.com/v3/businesses/search'"
   ]
  },
  {
   "cell_type": "code",
   "execution_count": null,
   "metadata": {},
   "outputs": [],
   "source": [
    "scrape_url = \"https://en.wikipedia.org/wiki/List_of_United_States_cities_by_population\"\n",
    "soup = BeautifulSoup(requests.get(scrape_url).text)\n",
    "\n",
    "\n",
    "city_table = soup.find_all('table',class_=\"wikitable sortable\")[0]\n",
    "header = city_table.find(\"tr\")\n",
    "data_header = []\n",
    "for items in header:\n",
    "    try:\n",
    "        data_header.append(items.get_text())\n",
    "    except:\n",
    "        continue\n",
    "\n",
    "html_data = city_table.find_all(\"tr\")[1:]\n",
    "cities = []\n",
    "for element in html_data:\n",
    "    sub_data = []\n",
    "    for sub_element in element:\n",
    "        try:\n",
    "            sub_data.append(sub_element.get_text())\n",
    "        except:\n",
    "            continue\n",
    "    cities.append(sub_data[3].replace('\\n',''))"
   ]
  },
  {
   "cell_type": "code",
   "execution_count": null,
   "metadata": {},
   "outputs": [],
   "source": [
    "all_cities_data = []\n",
    "f = open('city_data.json','w')\n",
    "for city in cities:\n",
    "    try:\n",
    "        parameter = {'location': city,'attributes':'hot_and_new','limit':1,'sort_by':'rating'}\n",
    "        city_data = json.loads(requests.get(url,headers = http_header,params=parameter).text)\n",
    "        all_cities_data.append(city_data)\n",
    "        print(json.dumps(city_data),file=f)\n",
    "    except:\n",
    "        print(city, 'loading failed')\n",
    "f.close()"
   ]
  }
 ],
 "metadata": {
  "kernelspec": {
   "display_name": "Python 3.10.1 64-bit",
   "language": "python",
   "name": "python3"
  },
  "language_info": {
   "codemirror_mode": {
    "name": "ipython",
    "version": 3
   },
   "file_extension": ".py",
   "mimetype": "text/x-python",
   "name": "python",
   "nbconvert_exporter": "python",
   "pygments_lexer": "ipython3",
   "version": "3.10.1"
  },
  "orig_nbformat": 4,
  "vscode": {
   "interpreter": {
    "hash": "c9a7f1a15d3506a784612b98851961835bbd5297fb9af0e7b915f9fd1bfd03a8"
   }
  }
 },
 "nbformat": 4,
 "nbformat_minor": 2
}
