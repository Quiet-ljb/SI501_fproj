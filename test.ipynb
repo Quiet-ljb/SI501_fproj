{
 "cells": [
  {
   "cell_type": "code",
   "execution_count": 1,
   "metadata": {},
   "outputs": [],
   "source": [
    "import json"
   ]
  },
  {
   "cell_type": "code",
   "execution_count": 2,
   "metadata": {},
   "outputs": [],
   "source": [
    "all_city_data = []\n",
    "f = open(\"city_data.json\",\"r\")\n",
    "lines = f.readlines()\n",
    "for line in lines:\n",
    "    data = json.loads(line)\n",
    "    all_city_data.append(data)\n",
    "f.close()"
   ]
  },
  {
   "cell_type": "code",
   "execution_count": 3,
   "metadata": {},
   "outputs": [],
   "source": [
    "class city_letter_node:\n",
    "    def __init__(self, letter):\n",
    "        self.letter = letter\n",
    "        self.children = []\n",
    "        self.info = None\n",
    "\n",
    "    def insert_city(self,city_name,city_info):\n",
    "        if city_name == \"\":\n",
    "            self.info = city_info\n",
    "            return\n",
    "        for child in self.children:\n",
    "            if child.letter == city_name[0]:\n",
    "                child.insert_city(city_name[1:],city_info)\n",
    "                return\n",
    "        new_child = city_letter_node(city_name[0])\n",
    "        self.children.append(new_child)\n",
    "        new_child.insert_city(city_name[1:],city_info)\n",
    "\n",
    "    def get_city_info(self,city_name):\n",
    "        if city_name == \"\":\n",
    "            return self.info\n",
    "        for child in self.children:\n",
    "            if child.letter == city_name[0]:\n",
    "                return child.get_city_info(city_name[1:])\n",
    "        return None\n",
    "\n",
    "    def show(self,level=0):\n",
    "        print(\"-\"*level + self.letter)\n",
    "        for child in self.children:\n",
    "            child.show(level+1)"
   ]
  },
  {
   "cell_type": "code",
   "execution_count": 7,
   "metadata": {},
   "outputs": [],
   "source": [
    "top_node = city_letter_node(\"\")\n",
    "top_node.insert_city(\"newyork\",all_city_data[0])\n",
    "top_node.insert_city(\"newyear\",all_city_data[1])"
   ]
  },
  {
   "cell_type": "code",
   "execution_count": 8,
   "metadata": {},
   "outputs": [
    {
     "name": "stdout",
     "output_type": "stream",
     "text": [
      "\n",
      "-n\n",
      "--e\n",
      "---w\n",
      "----y\n",
      "-----o\n",
      "------r\n",
      "-------k\n",
      "-----e\n",
      "------a\n",
      "-------r\n"
     ]
    }
   ],
   "source": [
    "top_node.show()"
   ]
  },
  {
   "cell_type": "code",
   "execution_count": 10,
   "metadata": {},
   "outputs": [],
   "source": [
    "top_node.get_city_info(\"hel\")"
   ]
  },
  {
   "cell_type": "code",
   "execution_count": null,
   "metadata": {},
   "outputs": [],
   "source": []
  }
 ],
 "metadata": {
  "kernelspec": {
   "display_name": "Python 3.10.1 64-bit",
   "language": "python",
   "name": "python3"
  },
  "language_info": {
   "codemirror_mode": {
    "name": "ipython",
    "version": 3
   },
   "file_extension": ".py",
   "mimetype": "text/x-python",
   "name": "python",
   "nbconvert_exporter": "python",
   "pygments_lexer": "ipython3",
   "version": "3.10.1"
  },
  "orig_nbformat": 4,
  "vscode": {
   "interpreter": {
    "hash": "c9a7f1a15d3506a784612b98851961835bbd5297fb9af0e7b915f9fd1bfd03a8"
   }
  }
 },
 "nbformat": 4,
 "nbformat_minor": 2
}
